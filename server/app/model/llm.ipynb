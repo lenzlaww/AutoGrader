{
 "cells": [
  {
   "cell_type": "code",
   "execution_count": null,
   "metadata": {},
   "outputs": [],
   "source": [
    "from openai import OpenAI\n",
    "from typing import List, Dict"
   ]
  },
  {
   "cell_type": "code",
   "execution_count": 3,
   "metadata": {},
   "outputs": [
    {
     "name": "stdout",
     "output_type": "stream",
     "text": [
      "Response: 5 + 3 = 8\n"
     ]
    }
   ],
   "source": [
    "# Initialize LiteLLM-compatible client\n",
    "client = OpenAI(\n",
    "    base_url=\"https://litellm.rillavoice.com/v1\",\n",
    "    api_key=\"sk-rilla-vibes\"\n",
    ")\n",
    "\n",
    "# Send a test prompt\n",
    "response = client.chat.completions.create(\n",
    "    model=\"claude-3-5-haiku\",  # You can test any other available model\n",
    "    messages=[{\"role\": \"user\", \"content\": \"what is 5 + 3?\"}]\n",
    ")\n",
    "\n",
    "# Print response\n",
    "print(\"Response:\", response.choices[0].message.content)"
   ]
  }
 ],
 "metadata": {
  "kernelspec": {
   "display_name": "hackathon",
   "language": "python",
   "name": "python3"
  },
  "language_info": {
   "codemirror_mode": {
    "name": "ipython",
    "version": 3
   },
   "file_extension": ".py",
   "mimetype": "text/x-python",
   "name": "python",
   "nbconvert_exporter": "python",
   "pygments_lexer": "ipython3",
   "version": "3.10.18"
  }
 },
 "nbformat": 4,
 "nbformat_minor": 2
}
